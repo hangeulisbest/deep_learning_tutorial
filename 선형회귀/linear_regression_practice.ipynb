{
 "cells": [
  {
   "cell_type": "code",
   "execution_count": 4,
   "metadata": {},
   "outputs": [],
   "source": [
    "import torch\n",
    "import torch.optim"
   ]
  },
  {
   "cell_type": "code",
   "execution_count": 11,
   "metadata": {},
   "outputs": [
    {
     "name": "stdout",
     "output_type": "stream",
     "text": [
      "epoch: 0 W: 0.43880003690719604 b: 0.11960000544786453 cost: 43.77000045776367\n",
      "epoch: 100 W: 1.8951215744018555 b: 0.3586447834968567 cost: 0.035873644053936005\n",
      "epoch: 200 W: 1.9252512454986572 b: 0.24986688792705536 cost: 0.02294611930847168\n",
      "epoch: 300 W: 1.9467252492904663 b: 0.17233902215957642 cost: 0.01637941040098667\n",
      "epoch: 400 W: 1.962030053138733 b: 0.11708354204893112 cost: 0.013043699786067009\n",
      "epoch: 500 W: 1.9729382991790771 b: 0.07770181447267532 cost: 0.011349273845553398\n",
      "epoch: 600 W: 1.9807127714157104 b: 0.04963381588459015 cost: 0.010488579049706459\n",
      "epoch: 700 W: 1.9862536191940308 b: 0.029629241675138474 cost: 0.010051374323666096\n",
      "epoch: 800 W: 1.990202784538269 b: 0.015371700748801231 cost: 0.009829284623265266\n",
      "epoch: 900 W: 1.993017315864563 b: 0.005209844559431076 cost: 0.009716460481286049\n",
      "epoch: 1000 W: 1.9950233697891235 b: -0.0020325419027358294 cost: 0.009659143164753914\n",
      "epoch: 1100 W: 1.996453046798706 b: -0.0071941944770514965 cost: 0.009630048647522926\n",
      "epoch: 1200 W: 1.9974719285964966 b: -0.010873053222894669 cost: 0.00961525272578001\n",
      "epoch: 1300 W: 1.9981982707977295 b: -0.013494959101080894 cost: 0.009607728570699692\n",
      "epoch: 1400 W: 1.998715877532959 b: -0.015363718383014202 cost: 0.00960396695882082\n",
      "epoch: 1500 W: 1.999084711074829 b: -0.01669548638164997 cost: 0.009602032601833344\n",
      "epoch: 1600 W: 1.9993475675582886 b: -0.01764451153576374 cost: 0.00960103515535593\n",
      "epoch: 1700 W: 1.9995348453521729 b: -0.018321016803383827 cost: 0.009600531309843063\n",
      "epoch: 1800 W: 1.9996684789657593 b: -0.018803203478455544 cost: 0.009600264951586723\n",
      "epoch: 1900 W: 1.9997638463974 b: -0.019146783277392387 cost: 0.009600115939974785\n",
      "epoch: 2000 W: 1.9998315572738647 b: -0.01939171552658081 cost: 0.009600076824426651\n"
     ]
    }
   ],
   "source": [
    "# H(x)\n",
    "W = torch.tensor([0.],requires_grad=True)\n",
    "b = torch.tensor([0.],requires_grad=True)\n",
    "\n",
    "x_train = torch.FloatTensor([[1.],[2.],[3.],[4.],[5.]])\n",
    "y_train = torch.FloatTensor([[2.1],[3.9],[5.9],[7.9],[10.1]])\n",
    "\n",
    "optimizer = torch.optim.SGD([W,b],lr=0.01)\n",
    "\n",
    "epoch = 2000\n",
    "\n",
    "for i in range(epoch+1):\n",
    "    \n",
    "    H = x_train*W + b\n",
    "    cost = torch.mean((H-y_train)**2)\n",
    "    \n",
    "    optimizer.zero_grad()\n",
    "    cost.backward()\n",
    "    optimizer.step()\n",
    "    \n",
    "    if i%100==0:\n",
    "        print(\"epoch: {} W: {} b: {} cost: {}\".format(i,W.item(),b.item(),cost))"
   ]
  },
  {
   "cell_type": "code",
   "execution_count": null,
   "metadata": {},
   "outputs": [],
   "source": []
  }
 ],
 "metadata": {
  "kernelspec": {
   "display_name": "pytorch",
   "language": "python",
   "name": "pytorch"
  },
  "language_info": {
   "codemirror_mode": {
    "name": "ipython",
    "version": 3
   },
   "file_extension": ".py",
   "mimetype": "text/x-python",
   "name": "python",
   "nbconvert_exporter": "python",
   "pygments_lexer": "ipython3",
   "version": "3.7.7"
  }
 },
 "nbformat": 4,
 "nbformat_minor": 4
}
