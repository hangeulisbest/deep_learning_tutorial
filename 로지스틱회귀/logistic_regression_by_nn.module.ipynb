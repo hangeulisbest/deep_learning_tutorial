{
 "cells": [
  {
   "cell_type": "code",
   "execution_count": 1,
   "metadata": {},
   "outputs": [
    {
     "data": {
      "text/plain": [
       "<torch._C.Generator at 0x7f994b954270>"
      ]
     },
     "execution_count": 1,
     "metadata": {},
     "output_type": "execute_result"
    }
   ],
   "source": [
    "import torch\n",
    "import torch.nn as nn\n",
    "import torch.nn.functional as F\n",
    "import torch.optim as optim\n",
    "torch.manual_seed(1)"
   ]
  },
  {
   "cell_type": "code",
   "execution_count": 2,
   "metadata": {},
   "outputs": [],
   "source": [
    "# 훈련할 텐서를 선언\n",
    "\n",
    "x_data = [[1, 2], [2, 3], [3, 1], [4, 3], [5, 3], [6, 2]]\n",
    "y_data = [[0], [0], [0], [1], [1], [1]]\n",
    "x_train = torch.FloatTensor(x_data)\n",
    "y_train = torch.FloatTensor(y_data)"
   ]
  },
  {
   "cell_type": "markdown",
   "metadata": {},
   "source": [
    "잠깐만 복습을 해보면 선형 회귀 모델의 가설식은 H(x)=Wx+b이었습니다. 그리고 이 가설식을 구현하기 위해서 파이토치의 nn.Linear()를 사용했습니다. 그리고 로지스틱 회귀의 가설식은 H(x)=sigmoid(Wx+b)입니다. 파이토치에서는 nn.Sigmoid()를 통해서 시그모이드 함수를 구현하므로 결과적으로 nn.Linear()의 결과를 nn.Sigmoid()를 거치게하면 로지스틱 회귀의 가설식이 됩니다."
   ]
  },
  {
   "cell_type": "markdown",
   "metadata": {},
   "source": [
    "nn.Sequential()은 nn.Module 층을 차례로 쌓을 수 있도록 합니다. 뒤에서 이를 이용해서 인공 신경망을 구현하게 되므로 기억하고 있으면 좋습니다. 조금 쉽게 말해서 nn.Sequential()은 Wx+b와 같은 수식과 시그모이드 함수 등과 같은 여러 함수들을 연결해주는 역할을 합니다. 이를 이용해서 로지스틱 회귀를 구현해봅시다."
   ]
  },
  {
   "cell_type": "code",
   "execution_count": 3,
   "metadata": {},
   "outputs": [],
   "source": [
    "model = nn.Sequential(\n",
    "   nn.Linear(2, 1), # input_dim = 2, output_dim = 1\n",
    "   nn.Sigmoid() # 출력은 시그모이드 함수를 거친다\n",
    ")"
   ]
  },
  {
   "cell_type": "code",
   "execution_count": 4,
   "metadata": {},
   "outputs": [
    {
     "data": {
      "text/plain": [
       "tensor([[0.4020],\n",
       "        [0.4147],\n",
       "        [0.6556],\n",
       "        [0.5948],\n",
       "        [0.6788],\n",
       "        [0.8061]], grad_fn=<SigmoidBackward>)"
      ]
     },
     "execution_count": 4,
     "metadata": {},
     "output_type": "execute_result"
    }
   ],
   "source": [
    "model(x_train)"
   ]
  },
  {
   "cell_type": "markdown",
   "metadata": {},
   "source": [
    "6 × 1 크기의 예측값 텐서가 출력됩니다. 그러나 현재 W와 b는 임의의 값을 가지므로 현재의 예측은 의미가 없습니다.\n",
    "이제 경사 하강법을 사용하여 훈련해보겠습니다. 총 100번의 에포크를 수행합니다."
   ]
  },
  {
   "cell_type": "code",
   "execution_count": 5,
   "metadata": {},
   "outputs": [],
   "source": [
    "# optimizer 설정\n",
    "optimizer = optim.SGD(model.parameters(), lr=1)"
   ]
  },
  {
   "cell_type": "code",
   "execution_count": 10,
   "metadata": {},
   "outputs": [
    {
     "name": "stdout",
     "output_type": "stream",
     "text": [
      "Epoch    0/1000 Cost: 0.005255 Accuracy 100.00%\n",
      "Epoch   10/1000 Cost: 0.005242 Accuracy 100.00%\n",
      "Epoch   20/1000 Cost: 0.005229 Accuracy 100.00%\n",
      "Epoch   30/1000 Cost: 0.005216 Accuracy 100.00%\n",
      "Epoch   40/1000 Cost: 0.005204 Accuracy 100.00%\n",
      "Epoch   50/1000 Cost: 0.005191 Accuracy 100.00%\n",
      "Epoch   60/1000 Cost: 0.005179 Accuracy 100.00%\n",
      "Epoch   70/1000 Cost: 0.005166 Accuracy 100.00%\n",
      "Epoch   80/1000 Cost: 0.005154 Accuracy 100.00%\n",
      "Epoch   90/1000 Cost: 0.005142 Accuracy 100.00%\n",
      "Epoch  100/1000 Cost: 0.005129 Accuracy 100.00%\n",
      "Epoch  110/1000 Cost: 0.005117 Accuracy 100.00%\n",
      "Epoch  120/1000 Cost: 0.005105 Accuracy 100.00%\n",
      "Epoch  130/1000 Cost: 0.005093 Accuracy 100.00%\n",
      "Epoch  140/1000 Cost: 0.005081 Accuracy 100.00%\n",
      "Epoch  150/1000 Cost: 0.005069 Accuracy 100.00%\n",
      "Epoch  160/1000 Cost: 0.005057 Accuracy 100.00%\n",
      "Epoch  170/1000 Cost: 0.005045 Accuracy 100.00%\n",
      "Epoch  180/1000 Cost: 0.005033 Accuracy 100.00%\n",
      "Epoch  190/1000 Cost: 0.005022 Accuracy 100.00%\n",
      "Epoch  200/1000 Cost: 0.005010 Accuracy 100.00%\n",
      "Epoch  210/1000 Cost: 0.004998 Accuracy 100.00%\n",
      "Epoch  220/1000 Cost: 0.004987 Accuracy 100.00%\n",
      "Epoch  230/1000 Cost: 0.004975 Accuracy 100.00%\n",
      "Epoch  240/1000 Cost: 0.004964 Accuracy 100.00%\n",
      "Epoch  250/1000 Cost: 0.004952 Accuracy 100.00%\n",
      "Epoch  260/1000 Cost: 0.004941 Accuracy 100.00%\n",
      "Epoch  270/1000 Cost: 0.004929 Accuracy 100.00%\n",
      "Epoch  280/1000 Cost: 0.004918 Accuracy 100.00%\n",
      "Epoch  290/1000 Cost: 0.004907 Accuracy 100.00%\n",
      "Epoch  300/1000 Cost: 0.004896 Accuracy 100.00%\n",
      "Epoch  310/1000 Cost: 0.004885 Accuracy 100.00%\n",
      "Epoch  320/1000 Cost: 0.004874 Accuracy 100.00%\n",
      "Epoch  330/1000 Cost: 0.004863 Accuracy 100.00%\n",
      "Epoch  340/1000 Cost: 0.004852 Accuracy 100.00%\n",
      "Epoch  350/1000 Cost: 0.004841 Accuracy 100.00%\n",
      "Epoch  360/1000 Cost: 0.004830 Accuracy 100.00%\n",
      "Epoch  370/1000 Cost: 0.004819 Accuracy 100.00%\n",
      "Epoch  380/1000 Cost: 0.004808 Accuracy 100.00%\n",
      "Epoch  390/1000 Cost: 0.004798 Accuracy 100.00%\n",
      "Epoch  400/1000 Cost: 0.004787 Accuracy 100.00%\n",
      "Epoch  410/1000 Cost: 0.004776 Accuracy 100.00%\n",
      "Epoch  420/1000 Cost: 0.004766 Accuracy 100.00%\n",
      "Epoch  430/1000 Cost: 0.004755 Accuracy 100.00%\n",
      "Epoch  440/1000 Cost: 0.004745 Accuracy 100.00%\n",
      "Epoch  450/1000 Cost: 0.004734 Accuracy 100.00%\n",
      "Epoch  460/1000 Cost: 0.004724 Accuracy 100.00%\n",
      "Epoch  470/1000 Cost: 0.004713 Accuracy 100.00%\n",
      "Epoch  480/1000 Cost: 0.004703 Accuracy 100.00%\n",
      "Epoch  490/1000 Cost: 0.004693 Accuracy 100.00%\n",
      "Epoch  500/1000 Cost: 0.004683 Accuracy 100.00%\n",
      "Epoch  510/1000 Cost: 0.004672 Accuracy 100.00%\n",
      "Epoch  520/1000 Cost: 0.004662 Accuracy 100.00%\n",
      "Epoch  530/1000 Cost: 0.004652 Accuracy 100.00%\n",
      "Epoch  540/1000 Cost: 0.004642 Accuracy 100.00%\n",
      "Epoch  550/1000 Cost: 0.004632 Accuracy 100.00%\n",
      "Epoch  560/1000 Cost: 0.004622 Accuracy 100.00%\n",
      "Epoch  570/1000 Cost: 0.004612 Accuracy 100.00%\n",
      "Epoch  580/1000 Cost: 0.004602 Accuracy 100.00%\n",
      "Epoch  590/1000 Cost: 0.004593 Accuracy 100.00%\n",
      "Epoch  600/1000 Cost: 0.004583 Accuracy 100.00%\n",
      "Epoch  610/1000 Cost: 0.004573 Accuracy 100.00%\n",
      "Epoch  620/1000 Cost: 0.004563 Accuracy 100.00%\n",
      "Epoch  630/1000 Cost: 0.004554 Accuracy 100.00%\n",
      "Epoch  640/1000 Cost: 0.004544 Accuracy 100.00%\n",
      "Epoch  650/1000 Cost: 0.004535 Accuracy 100.00%\n",
      "Epoch  660/1000 Cost: 0.004525 Accuracy 100.00%\n",
      "Epoch  670/1000 Cost: 0.004515 Accuracy 100.00%\n",
      "Epoch  680/1000 Cost: 0.004506 Accuracy 100.00%\n",
      "Epoch  690/1000 Cost: 0.004497 Accuracy 100.00%\n",
      "Epoch  700/1000 Cost: 0.004487 Accuracy 100.00%\n",
      "Epoch  710/1000 Cost: 0.004478 Accuracy 100.00%\n",
      "Epoch  720/1000 Cost: 0.004469 Accuracy 100.00%\n",
      "Epoch  730/1000 Cost: 0.004459 Accuracy 100.00%\n",
      "Epoch  740/1000 Cost: 0.004450 Accuracy 100.00%\n",
      "Epoch  750/1000 Cost: 0.004441 Accuracy 100.00%\n",
      "Epoch  760/1000 Cost: 0.004432 Accuracy 100.00%\n",
      "Epoch  770/1000 Cost: 0.004423 Accuracy 100.00%\n",
      "Epoch  780/1000 Cost: 0.004414 Accuracy 100.00%\n",
      "Epoch  790/1000 Cost: 0.004404 Accuracy 100.00%\n",
      "Epoch  800/1000 Cost: 0.004395 Accuracy 100.00%\n",
      "Epoch  810/1000 Cost: 0.004387 Accuracy 100.00%\n",
      "Epoch  820/1000 Cost: 0.004378 Accuracy 100.00%\n",
      "Epoch  830/1000 Cost: 0.004369 Accuracy 100.00%\n",
      "Epoch  840/1000 Cost: 0.004360 Accuracy 100.00%\n",
      "Epoch  850/1000 Cost: 0.004351 Accuracy 100.00%\n",
      "Epoch  860/1000 Cost: 0.004342 Accuracy 100.00%\n",
      "Epoch  870/1000 Cost: 0.004333 Accuracy 100.00%\n",
      "Epoch  880/1000 Cost: 0.004325 Accuracy 100.00%\n",
      "Epoch  890/1000 Cost: 0.004316 Accuracy 100.00%\n",
      "Epoch  900/1000 Cost: 0.004307 Accuracy 100.00%\n",
      "Epoch  910/1000 Cost: 0.004299 Accuracy 100.00%\n",
      "Epoch  920/1000 Cost: 0.004290 Accuracy 100.00%\n",
      "Epoch  930/1000 Cost: 0.004282 Accuracy 100.00%\n",
      "Epoch  940/1000 Cost: 0.004273 Accuracy 100.00%\n",
      "Epoch  950/1000 Cost: 0.004265 Accuracy 100.00%\n",
      "Epoch  960/1000 Cost: 0.004256 Accuracy 100.00%\n",
      "Epoch  970/1000 Cost: 0.004248 Accuracy 100.00%\n",
      "Epoch  980/1000 Cost: 0.004240 Accuracy 100.00%\n",
      "Epoch  990/1000 Cost: 0.004231 Accuracy 100.00%\n",
      "Epoch 1000/1000 Cost: 0.004223 Accuracy 100.00%\n"
     ]
    }
   ],
   "source": [
    "nb_epochs = 1000\n",
    "for epoch in range(nb_epochs + 1):\n",
    "\n",
    "    # H(x) 계산\n",
    "    hypothesis = model(x_train)\n",
    "\n",
    "    # cost 계산\n",
    "    cost = F.binary_cross_entropy(hypothesis, y_train)\n",
    "\n",
    "    # cost로 H(x) 개선\n",
    "    optimizer.zero_grad()\n",
    "    cost.backward()\n",
    "    optimizer.step()\n",
    "\n",
    "    # 20번마다 로그 출력\n",
    "    if epoch % 10 == 0:\n",
    "        prediction = hypothesis >= torch.FloatTensor([0.5]) # 예측값이 0.5를 넘으면 True로 간주\n",
    "        correct_prediction = prediction.float() == y_train # 실제값과 일치하는 경우만 True로 간주\n",
    "        accuracy = correct_prediction.sum().item() / len(correct_prediction) # 정확도를 계산\n",
    "        print('Epoch {:4d}/{} Cost: {:.6f} Accuracy {:2.2f}%'.format( # 각 에포크마다 정확도를 출력\n",
    "            epoch, nb_epochs, cost.item(), accuracy * 100,\n",
    "        ))"
   ]
  },
  {
   "cell_type": "code",
   "execution_count": null,
   "metadata": {},
   "outputs": [],
   "source": []
  }
 ],
 "metadata": {
  "kernelspec": {
   "display_name": "pytorch",
   "language": "python",
   "name": "pytorch"
  },
  "language_info": {
   "codemirror_mode": {
    "name": "ipython",
    "version": 3
   },
   "file_extension": ".py",
   "mimetype": "text/x-python",
   "name": "python",
   "nbconvert_exporter": "python",
   "pygments_lexer": "ipython3",
   "version": "3.7.7"
  }
 },
 "nbformat": 4,
 "nbformat_minor": 4
}
